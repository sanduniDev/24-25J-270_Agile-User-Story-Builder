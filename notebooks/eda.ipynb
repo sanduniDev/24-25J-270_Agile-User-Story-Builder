{
 "cells": [
  {
   "cell_type": "code",
   "execution_count": null,
   "metadata": {},
   "outputs": [],
   "source": []
  },
  {
   "cell_type": "code",
   "execution_count": 1,
   "metadata": {},
   "outputs": [
    {
     "ename": "NameError",
     "evalue": "name 'pd' is not defined",
     "output_type": "error",
     "traceback": [
      "\u001b[1;31m---------------------------------------------------------------------------\u001b[0m",
      "\u001b[1;31mNameError\u001b[0m                                 Traceback (most recent call last)",
      "Cell \u001b[1;32mIn[1], line 5\u001b[0m\n\u001b[0;32m      2\u001b[0m \u001b[38;5;28;01mimport\u001b[39;00m \u001b[38;5;21;01mseaborn\u001b[39;00m \u001b[38;5;28;01mas\u001b[39;00m \u001b[38;5;21;01msns\u001b[39;00m\n\u001b[0;32m      4\u001b[0m \u001b[38;5;66;03m# Convert 'timestamp' to datetime\u001b[39;00m\n\u001b[1;32m----> 5\u001b[0m data[\u001b[38;5;124m'\u001b[39m\u001b[38;5;124mtimestamp\u001b[39m\u001b[38;5;124m'\u001b[39m] \u001b[38;5;241m=\u001b[39m \u001b[43mpd\u001b[49m\u001b[38;5;241m.\u001b[39mto_datetime(data[\u001b[38;5;124m'\u001b[39m\u001b[38;5;124mtimestamp\u001b[39m\u001b[38;5;124m'\u001b[39m])\n\u001b[0;32m      7\u001b[0m \u001b[38;5;66;03m# Check class balance for 'final_priority'\u001b[39;00m\n\u001b[0;32m      8\u001b[0m \u001b[38;5;28mprint\u001b[39m(\u001b[38;5;124m\"\u001b[39m\u001b[38;5;130;01m\\n\u001b[39;00m\u001b[38;5;124mClass Distribution in \u001b[39m\u001b[38;5;124m'\u001b[39m\u001b[38;5;124mfinal_priority\u001b[39m\u001b[38;5;124m'\u001b[39m\u001b[38;5;124m:\u001b[39m\u001b[38;5;124m\"\u001b[39m)\n",
      "\u001b[1;31mNameError\u001b[0m: name 'pd' is not defined"
     ]
    }
   ],
   "source": [
    "import matplotlib.pyplot as plt\n",
    "import seaborn as sns\n",
    "\n",
    "# Convert 'timestamp' to datetime\n",
    "data['timestamp'] = pd.to_datetime(data['timestamp'])\n",
    "\n",
    "# Check class balance for 'final_priority'\n",
    "print(\"\\nClass Distribution in 'final_priority':\")\n",
    "print(data['final_priority'].value_counts())\n",
    "\n",
    "# Plot class distribution for 'final_priority'\n",
    "plt.figure(figsize=(8, 5))\n",
    "sns.countplot(data=data, x='final_priority', order=data['final_priority'].value_counts().index)\n",
    "plt.title('Class Distribution of Final Priority')\n",
    "plt.xlabel('Final Priority')\n",
    "plt.ylabel('Count')\n",
    "plt.show()\n",
    "\n",
    "# Distribution of 'weighted_score'\n",
    "plt.figure(figsize=(8, 5))\n",
    "sns.histplot(data=data, x='weighted_score', kde=True, bins=20)\n",
    "plt.title('Distribution of Weighted Score')\n",
    "plt.xlabel('Weighted Score')\n",
    "plt.ylabel('Frequency')\n",
    "plt.show()\n",
    "\n",
    "# Check relationships between weighted_score and final_priority\n",
    "plt.figure(figsize=(10, 6))\n",
    "sns.boxplot(data=data, x='final_priority', y='weighted_score', order=['High', 'Medium', 'Low'])\n",
    "plt.title('Weighted Score vs Final Priority')\n",
    "plt.xlabel('Final Priority')\n",
    "plt.ylabel('Weighted Score')\n",
    "plt.show()\n",
    "\n",
    "# Time-based analysis\n",
    "plt.figure(figsize=(12, 6))\n",
    "data.groupby(data['timestamp'].dt.date)['user_story_id'].count().plot(kind='line')\n",
    "plt.title('Number of User Stories Over Time')\n",
    "plt.xlabel('Date')\n",
    "plt.ylabel('Count')\n",
    "plt.show()\n"
   ]
  },
  {
   "cell_type": "code",
   "execution_count": null,
   "metadata": {},
   "outputs": [],
   "source": []
  }
 ],
 "metadata": {
  "kernelspec": {
   "display_name": "Python 3",
   "language": "python",
   "name": "python3"
  },
  "language_info": {
   "codemirror_mode": {
    "name": "ipython",
    "version": 3
   },
   "file_extension": ".py",
   "mimetype": "text/x-python",
   "name": "python",
   "nbconvert_exporter": "python",
   "pygments_lexer": "ipython3",
   "version": "3.9.11"
  }
 },
 "nbformat": 4,
 "nbformat_minor": 2
}
